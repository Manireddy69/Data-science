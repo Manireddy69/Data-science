{
 "cells": [
  {
   "cell_type": "code",
   "execution_count": 1,
   "id": "cbb68832",
   "metadata": {},
   "outputs": [],
   "source": [
    "import pandas as pd\n",
    "import numpy as np"
   ]
  },
  {
   "cell_type": "code",
   "execution_count": 36,
   "id": "978840e9",
   "metadata": {},
   "outputs": [
    {
     "name": "stdout",
     "output_type": "stream",
     "text": [
      "1    3\n",
      "2    3\n",
      "3    3\n",
      "4    3\n",
      "5    3\n",
      "dtype: int64\n",
      "   number\n",
      "0       1\n",
      "1       2\n",
      "2       3\n",
      "3       4\n",
      "4       5\n"
     ]
    }
   ],
   "source": [
    "data = pd.Series(np.random.randint(1,5),index=[1,2,3,4,5]) #manually creating a series\n",
    "dt = pd.DataFrame({'number': [1, 2, 3, 4, 5]}, index=[0, 1, 2, 3, 4]) #manually creating a dataframe with index\n",
    "print(data)\n",
    "print(dt)"
   ]
  },
  {
   "cell_type": "code",
   "execution_count": 20,
   "id": "8b6e46b5",
   "metadata": {},
   "outputs": [
    {
     "name": "stdout",
     "output_type": "stream",
     "text": [
      "   a  b  c\n",
      "1  3  3  4\n",
      "2  1  2  3\n",
      "3  4  2  3\n",
      "Determinant of the matrix is: 2.9999999999999996\n"
     ]
    }
   ],
   "source": [
    "#creating a dataframe with random integers\n",
    "x = pd.DataFrame(np.random.randint(1,5,(3,3)), columns=['a','b','c'],index=(1,2,3))\n",
    "print(x)\n",
    "# calculating determinant of the matrix\n",
    "determinant = np.linalg.det(x.values)\n",
    "print(\"Determinant of the matrix is:\", determinant)"
   ]
  },
  {
   "cell_type": "code",
   "execution_count": 37,
   "id": "4736b0db",
   "metadata": {},
   "outputs": [
    {
     "name": "stdout",
     "output_type": "stream",
     "text": [
      "{'mani': 123, 'sai': 456, 'kiran': 789}\n",
      "    Name  Number\n",
      "0   mani     123\n",
      "1    sai     456\n",
      "2  kiran     789\n"
     ]
    }
   ],
   "source": [
    "dic = {\"mani\" : 123, \"sai\" : 456, \"kiran\" : 789} #creating a dictionary\n",
    "df = pd.DataFrame(dic.items(), columns=['Name', 'Number']) #creating a dataframe from dictionary  \n",
    "print(dic)\n",
    "print(df)"
   ]
  },
  {
   "cell_type": "code",
   "execution_count": 46,
   "id": "af820a56",
   "metadata": {},
   "outputs": [
    {
     "name": "stdout",
     "output_type": "stream",
     "text": [
      "   a  b\n",
      "0  1  4\n",
      "1  2  5\n",
      "2  3  6\n",
      "0    1\n",
      "1    2\n",
      "2    3\n",
      "Name: a, dtype: int64\n",
      "a    1\n",
      "b    4\n",
      "Name: 0, dtype: int64\n"
     ]
    }
   ],
   "source": [
    "d = pd.DataFrame({'a': [1, 2, 3], 'b': [4, 5, 6]}) #creating a dataframe with two columns\n",
    "print(d) #printing the dataframe\n",
    "print(d['a']) # accessing the first column\n",
    "print(d.iloc[0]) # accessing the first row"
   ]
  },
  {
   "cell_type": "code",
   "execution_count": 44,
   "id": "25b709f7",
   "metadata": {},
   "outputs": [
    {
     "name": "stdout",
     "output_type": "stream",
     "text": [
      "a\n"
     ]
    }
   ],
   "source": [
    "df1 = pd.Series(['a', 'b', 'c', 'd', 'e'], index=[1, 2, 3, 4, 5]) #creating a series with index\n",
    "print(df1[1]) #accessing the first element of the series"
   ]
  },
  {
   "cell_type": "code",
   "execution_count": 2,
   "id": "f32a1f75",
   "metadata": {},
   "outputs": [
    {
     "name": "stdout",
     "output_type": "stream",
     "text": [
      "Manual Data with Null Values:\n",
      "     Name   Age Gender\n",
      "0   Aarav  25.0      M\n",
      "1  Ishita   NaN      F\n",
      "2    None  35.0      M\n",
      "3   Rohan  40.0   None\n",
      "4   Priya   NaN      F\n",
      "\n",
      "Data after treating null values:\n",
      "      Name        Age   Gender\n",
      "0    Aarav  25.000000        M\n",
      "1   Ishita  33.333333        F\n",
      "2  Unknown  35.000000        M\n",
      "3    Rohan  40.000000  Unknown\n",
      "4    Priya  33.333333        F\n"
     ]
    }
   ],
   "source": [
    "# Creating a manual dataset with some null values\n",
    "import pandas as pd\n",
    "manual_data = pd.DataFrame({\n",
    "    'Name': ['Aarav', 'Ishita', None, 'Rohan', 'Priya'],\n",
    "    'Age': [25, None, 35, 40, None],\n",
    "    'Gender': ['M', 'F', 'M', None, 'F']\n",
    "})\n",
    "print(\"Manual Data with Null Values:\")\n",
    "print(manual_data)\n",
    "\n",
    "# Example of treating null values:\n",
    "# Filling null values with a default value\n",
    "manual_data_filled = manual_data.fillna({'Name': 'Unknown', 'Age': manual_data['Age'].mean(), 'Gender': 'Unknown'})\n",
    "print(\"\\nData after treating null values:\")\n",
    "print(manual_data_filled)"
   ]
  }
 ],
 "metadata": {
  "kernelspec": {
   "display_name": "base",
   "language": "python",
   "name": "python3"
  },
  "language_info": {
   "codemirror_mode": {
    "name": "ipython",
    "version": 3
   },
   "file_extension": ".py",
   "mimetype": "text/x-python",
   "name": "python",
   "nbconvert_exporter": "python",
   "pygments_lexer": "ipython3",
   "version": "3.10.9"
  }
 },
 "nbformat": 4,
 "nbformat_minor": 5
}
