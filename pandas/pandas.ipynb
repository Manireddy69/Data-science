{
 "cells": [
  {
   "cell_type": "code",
   "execution_count": 2,
   "id": "cbb68832",
   "metadata": {},
   "outputs": [],
   "source": [
    "import pandas as pd\n",
    "import numpy as np"
   ]
  },
  {
   "cell_type": "code",
   "execution_count": 3,
   "id": "978840e9",
   "metadata": {},
   "outputs": [
    {
     "name": "stdout",
     "output_type": "stream",
     "text": [
      "1    2\n",
      "2    2\n",
      "3    2\n",
      "4    2\n",
      "5    2\n",
      "dtype: int64\n",
      "   number\n",
      "0       1\n",
      "1       2\n",
      "2       3\n",
      "3       4\n",
      "4       5\n"
     ]
    }
   ],
   "source": [
    "data = pd.Series(np.random.randint(1,5),index=[1,2,3,4,5]) #manually creating a series\n",
    "dt = pd.DataFrame({'number': [1, 2, 3, 4, 5]}, index=[0, 1, 2, 3, 4]) #manually creating a dataframe with index\n",
    "print(data)\n",
    "print(dt)"
   ]
  },
  {
   "cell_type": "code",
   "execution_count": 4,
   "id": "8b6e46b5",
   "metadata": {},
   "outputs": [
    {
     "name": "stdout",
     "output_type": "stream",
     "text": [
      "   a  b  c\n",
      "1  3  2  4\n",
      "2  3  4  3\n",
      "3  2  3  2\n",
      "Determinant of the matrix is: 1.000000000000001\n"
     ]
    }
   ],
   "source": [
    "#creating a dataframe with random integers\n",
    "x = pd.DataFrame(np.random.randint(1,5,(3,3)), columns=['a','b','c'],index=(1,2,3))\n",
    "print(x)\n",
    "# calculating determinant of the matrix\n",
    "determinant = np.linalg.det(x.values)\n",
    "print(\"Determinant of the matrix is:\", determinant)"
   ]
  },
  {
   "cell_type": "code",
   "execution_count": 5,
   "id": "4736b0db",
   "metadata": {},
   "outputs": [
    {
     "name": "stdout",
     "output_type": "stream",
     "text": [
      "{'mani': 123, 'sai': 456, 'kiran': 789}\n",
      "    Name  Number\n",
      "0   mani     123\n",
      "1    sai     456\n",
      "2  kiran     789\n"
     ]
    }
   ],
   "source": [
    "dic = {\"mani\" : 123, \"sai\" : 456, \"kiran\" : 789} #creating a dictionary\n",
    "df = pd.DataFrame(dic.items(), columns=['Name', 'Number']) #creating a dataframe from dictionary  \n",
    "print(dic)\n",
    "print(df)"
   ]
  },
  {
   "cell_type": "code",
   "execution_count": 6,
   "id": "af820a56",
   "metadata": {},
   "outputs": [
    {
     "name": "stdout",
     "output_type": "stream",
     "text": [
      "   a  b\n",
      "0  1  4\n",
      "1  2  5\n",
      "2  3  6\n",
      "0    1\n",
      "1    2\n",
      "2    3\n",
      "Name: a, dtype: int64\n",
      "a    1\n",
      "b    4\n",
      "Name: 0, dtype: int64\n"
     ]
    }
   ],
   "source": [
    "d = pd.DataFrame({'a': [1, 2, 3], 'b': [4, 5, 6]}) #creating a dataframe with two columns\n",
    "print(d) #printing the dataframe\n",
    "print(d['a']) # accessing the first column\n",
    "print(d.iloc[0]) # accessing the first row"
   ]
  },
  {
   "cell_type": "code",
   "execution_count": 7,
   "id": "25b709f7",
   "metadata": {},
   "outputs": [
    {
     "name": "stdout",
     "output_type": "stream",
     "text": [
      "a\n"
     ]
    }
   ],
   "source": [
    "df1 = pd.Series(['a', 'b', 'c', 'd', 'e'], index=[1, 2, 3, 4, 5]) #creating a series with index\n",
    "print(df1[1]) #accessing the first element of the series"
   ]
  },
  {
   "cell_type": "code",
   "execution_count": 8,
   "id": "f32a1f75",
   "metadata": {},
   "outputs": [
    {
     "name": "stdout",
     "output_type": "stream",
     "text": [
      "Manual Data with Null Values:\n",
      "     Name   Age Gender\n",
      "0   Aarav  25.0      M\n",
      "1  Ishita   NaN      F\n",
      "2    None  35.0      M\n",
      "3   Rohan  40.0   None\n",
      "4   Priya   NaN      F\n",
      "\n",
      "Data after treating null values:\n",
      "      Name        Age   Gender\n",
      "0    Aarav  25.000000        M\n",
      "1   Ishita  33.333333        F\n",
      "2  Unknown  35.000000        M\n",
      "3    Rohan  40.000000  Unknown\n",
      "4    Priya  33.333333        F\n"
     ]
    }
   ],
   "source": [
    "# Creating a manual dataset with some null values\n",
    "import pandas as pd\n",
    "manual_data = pd.DataFrame({\n",
    "    'Name': ['Aarav', 'Ishita', None, 'Rohan', 'Priya'],\n",
    "    'Age': [25, None, 35, 40, None],\n",
    "    'Gender': ['M', 'F', 'M', None, 'F']\n",
    "})\n",
    "print(\"Manual Data with Null Values:\")\n",
    "print(manual_data)\n",
    "\n",
    "# Example of treating null values:\n",
    "# Filling null values with a default value\n",
    "manual_data_filled = manual_data.fillna({'Name': 'Unknown', 'Age': manual_data['Age'].mean(), 'Gender': 'Unknown'})\n",
    "print(\"\\nData after treating null values:\")\n",
    "print(manual_data_filled)"
   ]
  },
  {
   "cell_type": "code",
   "execution_count": 9,
   "id": "526f71d2",
   "metadata": {},
   "outputs": [
    {
     "name": "stdout",
     "output_type": "stream",
     "text": [
      "   a  b  c\n",
      "1  4  1  3\n",
      "2  3  4  1\n",
      "3  3  2  4\n"
     ]
    },
    {
     "data": {
      "text/plain": [
       "29.000000000000004"
      ]
     },
     "execution_count": 9,
     "metadata": {},
     "output_type": "execute_result"
    }
   ],
   "source": [
    "x = pd.Series([1, 2, 3, 4, 5]) #creating a series with index\n",
    "y = pd.DataFrame(np.random.randint(1,5,(3,3)), columns=list(\"abc\"),index=(1,2,3)) #creating a dataframe with random integers\n",
    "print(y)\n",
    "det = np.linalg.det(y.values) #calculating the determinant of the matrix\n",
    "det"
   ]
  },
  {
   "cell_type": "markdown",
   "id": "feb8d4e6",
   "metadata": {},
   "source": [
    "### Linear Algebra Functions in NumPy\n",
    "NumPy provides a variety of linear algebra functions to perform operations such as matrix multiplication, determinant calculation, eigenvalues, and more."
   ]
  },
  {
   "cell_type": "code",
   "execution_count": 10,
   "id": "99d60a18",
   "metadata": {},
   "outputs": [
    {
     "name": "stdout",
     "output_type": "stream",
     "text": [
      "Matrix Multiplication:\n",
      " [[21 36]\n",
      " [12 21]]\n",
      "\n",
      "Determinant: -2.9999999999999996\n",
      "\n",
      "Eigenvalues: [ 6.46410162 -0.46410162]\n",
      "Eigenvectors:\n",
      " [[ 0.8660254 -0.8660254]\n",
      " [ 0.5        0.5      ]]\n",
      "\n",
      "Inverse of the matrix:\n",
      " [[-1.          2.        ]\n",
      " [ 0.66666667 -1.        ]]\n"
     ]
    }
   ],
   "source": [
    "import numpy as np\n",
    "\n",
    "# Example matrix\n",
    "matrix = np.random.randint(1, 10, (2,2))\n",
    "\n",
    "# Matrix multiplication\n",
    "result = np.dot(matrix, matrix)\n",
    "print(\"Matrix Multiplication:\\n\", result)\n",
    "\n",
    "# Determinant\n",
    "det = np.linalg.det(matrix)\n",
    "print(\"\\nDeterminant:\", det)\n",
    "\n",
    "# Eigenvalues and Eigenvectors\n",
    "eigenvalues, eigenvectors = np.linalg.eig(matrix)\n",
    "print(\"\\nEigenvalues:\", eigenvalues)\n",
    "print(\"Eigenvectors:\\n\", eigenvectors)\n",
    "\n",
    "# Inverse of a matrix\n",
    "inverse = np.linalg.inv(matrix)\n",
    "print(\"\\nInverse of the matrix:\\n\", inverse)"
   ]
  },
  {
   "cell_type": "code",
   "execution_count": 11,
   "id": "661fa304",
   "metadata": {},
   "outputs": [
    {
     "data": {
      "text/plain": [
       "0    0.496714\n",
       "1   -0.138264\n",
       "2    0.647689\n",
       "3    1.523030\n",
       "4   -0.234153\n",
       "dtype: float64"
      ]
     },
     "execution_count": 11,
     "metadata": {},
     "output_type": "execute_result"
    }
   ],
   "source": [
    "rng = np.random.RandomState(42)\n",
    "ser = pd.Series(rng.randn(5)) #creating a series with random numbers\n",
    "ser"
   ]
  },
  {
   "cell_type": "code",
   "execution_count": 12,
   "id": "ca449b3f",
   "metadata": {},
   "outputs": [
    {
     "data": {
      "text/plain": [
       "2.2950148716254297"
      ]
     },
     "execution_count": 12,
     "metadata": {},
     "output_type": "execute_result"
    }
   ],
   "source": [
    "ser.sum()"
   ]
  },
  {
   "cell_type": "code",
   "execution_count": 13,
   "id": "3bc5bc3e",
   "metadata": {},
   "outputs": [
    {
     "data": {
      "text/plain": [
       "0.45900297432508597"
      ]
     },
     "execution_count": 13,
     "metadata": {},
     "output_type": "execute_result"
    }
   ],
   "source": [
    "ser.mean()"
   ]
  },
  {
   "cell_type": "code",
   "execution_count": 14,
   "id": "4c620dbb",
   "metadata": {},
   "outputs": [
    {
     "data": {
      "text/plain": [
       "0    False\n",
       "1    False\n",
       "2    False\n",
       "3    False\n",
       "4     True\n",
       "5     True\n",
       "6    False\n",
       "dtype: bool"
      ]
     },
     "execution_count": 14,
     "metadata": {},
     "output_type": "execute_result"
    }
   ],
   "source": [
    "x = pd.Series([1, 2, 3, 4, np.nan, None, 0])#creating a series with index\n",
    "pd.isnull(x)"
   ]
  },
  {
   "cell_type": "code",
   "execution_count": 15,
   "id": "8291f80e",
   "metadata": {},
   "outputs": [
    {
     "data": {
      "text/plain": [
       "0     True\n",
       "1     True\n",
       "2     True\n",
       "3     True\n",
       "4    False\n",
       "5    False\n",
       "6     True\n",
       "dtype: bool"
      ]
     },
     "execution_count": 15,
     "metadata": {},
     "output_type": "execute_result"
    }
   ],
   "source": [
    "pd.notnull(x) #opposite of isnull"
   ]
  },
  {
   "cell_type": "code",
   "execution_count": 16,
   "id": "76876ca9",
   "metadata": {},
   "outputs": [
    {
     "data": {
      "text/html": [
       "<div>\n",
       "<style scoped>\n",
       "    .dataframe tbody tr th:only-of-type {\n",
       "        vertical-align: middle;\n",
       "    }\n",
       "\n",
       "    .dataframe tbody tr th {\n",
       "        vertical-align: top;\n",
       "    }\n",
       "\n",
       "    .dataframe thead th {\n",
       "        text-align: right;\n",
       "    }\n",
       "</style>\n",
       "<table border=\"1\" class=\"dataframe\">\n",
       "  <thead>\n",
       "    <tr style=\"text-align: right;\">\n",
       "      <th></th>\n",
       "      <th>a</th>\n",
       "      <th>b</th>\n",
       "    </tr>\n",
       "  </thead>\n",
       "  <tbody>\n",
       "    <tr>\n",
       "      <th>0</th>\n",
       "      <td>1.0</td>\n",
       "      <td>0.0</td>\n",
       "    </tr>\n",
       "    <tr>\n",
       "      <th>1</th>\n",
       "      <td>2.0</td>\n",
       "      <td>5.0</td>\n",
       "    </tr>\n",
       "    <tr>\n",
       "      <th>2</th>\n",
       "      <td>0.0</td>\n",
       "      <td>6.0</td>\n",
       "    </tr>\n",
       "  </tbody>\n",
       "</table>\n",
       "</div>"
      ],
      "text/plain": [
       "     a    b\n",
       "0  1.0  0.0\n",
       "1  2.0  5.0\n",
       "2  0.0  6.0"
      ]
     },
     "execution_count": 16,
     "metadata": {},
     "output_type": "execute_result"
    }
   ],
   "source": [
    "y = pd.DataFrame({'a': [1, 2, None], 'b': [np.nan, 5, 6]}) #creating a dataframe with two column\n",
    "y.fillna(0) #filling the null values with 0"
   ]
  },
  {
   "cell_type": "code",
   "execution_count": 31,
   "id": "2f2d3aef",
   "metadata": {},
   "outputs": [
    {
     "name": "stdout",
     "output_type": "stream",
     "text": [
      "   index keys\n",
      "0      0    A\n",
      "1      1    A\n",
      "2      2    B\n",
      "3      3    C\n",
      "4      4    c\n",
      "5      5    D\n",
      "6      6    D\n"
     ]
    }
   ],
   "source": [
    "# Creating a dataframe with 'key' and 'index' columns\n",
    "keys = ['A','A','B','C','c','D','D']\n",
    "df_key_index = pd.DataFrame({'index': range(7), 'keys': keys})  # Corrected syntax\n",
    "print(df_key_index)"
   ]
  },
  {
   "cell_type": "code",
   "execution_count": 37,
   "id": "12425283",
   "metadata": {},
   "outputs": [],
   "source": [
    "df_key_index['keys'] = df_key_index['keys'].str.upper()"
   ]
  },
  {
   "cell_type": "code",
   "execution_count": 44,
   "id": "d3b21c23",
   "metadata": {},
   "outputs": [
    {
     "data": {
      "text/html": [
       "<div>\n",
       "<style scoped>\n",
       "    .dataframe tbody tr th:only-of-type {\n",
       "        vertical-align: middle;\n",
       "    }\n",
       "\n",
       "    .dataframe tbody tr th {\n",
       "        vertical-align: top;\n",
       "    }\n",
       "\n",
       "    .dataframe thead th {\n",
       "        text-align: right;\n",
       "    }\n",
       "</style>\n",
       "<table border=\"1\" class=\"dataframe\">\n",
       "  <thead>\n",
       "    <tr style=\"text-align: right;\">\n",
       "      <th></th>\n",
       "      <th>index</th>\n",
       "    </tr>\n",
       "    <tr>\n",
       "      <th>keys</th>\n",
       "      <th></th>\n",
       "    </tr>\n",
       "  </thead>\n",
       "  <tbody>\n",
       "    <tr>\n",
       "      <th>A</th>\n",
       "      <td>1</td>\n",
       "    </tr>\n",
       "    <tr>\n",
       "      <th>B</th>\n",
       "      <td>2</td>\n",
       "    </tr>\n",
       "    <tr>\n",
       "      <th>C</th>\n",
       "      <td>7</td>\n",
       "    </tr>\n",
       "    <tr>\n",
       "      <th>D</th>\n",
       "      <td>11</td>\n",
       "    </tr>\n",
       "  </tbody>\n",
       "</table>\n",
       "</div>"
      ],
      "text/plain": [
       "      index\n",
       "keys       \n",
       "A         1\n",
       "B         2\n",
       "C         7\n",
       "D        11"
      ]
     },
     "execution_count": 44,
     "metadata": {},
     "output_type": "execute_result"
    }
   ],
   "source": [
    "df_key_index.groupby(\"keys\").sum()"
   ]
  },
  {
   "cell_type": "code",
   "execution_count": 45,
   "id": "7f9ef9ab",
   "metadata": {},
   "outputs": [],
   "source": [
    "df = pd.DataFrame({'key': ['A', 'B', 'C', 'A', 'B', 'C'],\n",
    " 'data': range(6)}, columns=['key', 'data'])"
   ]
  },
  {
   "cell_type": "code",
   "execution_count": 47,
   "id": "27326c5a",
   "metadata": {},
   "outputs": [
    {
     "data": {
      "text/html": [
       "<div>\n",
       "<style scoped>\n",
       "    .dataframe tbody tr th:only-of-type {\n",
       "        vertical-align: middle;\n",
       "    }\n",
       "\n",
       "    .dataframe tbody tr th {\n",
       "        vertical-align: top;\n",
       "    }\n",
       "\n",
       "    .dataframe thead th {\n",
       "        text-align: right;\n",
       "    }\n",
       "</style>\n",
       "<table border=\"1\" class=\"dataframe\">\n",
       "  <thead>\n",
       "    <tr style=\"text-align: right;\">\n",
       "      <th></th>\n",
       "      <th>data</th>\n",
       "    </tr>\n",
       "    <tr>\n",
       "      <th>key</th>\n",
       "      <th></th>\n",
       "    </tr>\n",
       "  </thead>\n",
       "  <tbody>\n",
       "    <tr>\n",
       "      <th>A</th>\n",
       "      <td>3</td>\n",
       "    </tr>\n",
       "    <tr>\n",
       "      <th>B</th>\n",
       "      <td>5</td>\n",
       "    </tr>\n",
       "    <tr>\n",
       "      <th>C</th>\n",
       "      <td>7</td>\n",
       "    </tr>\n",
       "  </tbody>\n",
       "</table>\n",
       "</div>"
      ],
      "text/plain": [
       "     data\n",
       "key      \n",
       "A       3\n",
       "B       5\n",
       "C       7"
      ]
     },
     "execution_count": 47,
     "metadata": {},
     "output_type": "execute_result"
    }
   ],
   "source": [
    "df.groupby('key').sum()"
   ]
  },
  {
   "cell_type": "code",
   "execution_count": 48,
   "id": "cef77a38",
   "metadata": {},
   "outputs": [
    {
     "data": {
      "text/html": [
       "<div>\n",
       "<style scoped>\n",
       "    .dataframe tbody tr th:only-of-type {\n",
       "        vertical-align: middle;\n",
       "    }\n",
       "\n",
       "    .dataframe tbody tr th {\n",
       "        vertical-align: top;\n",
       "    }\n",
       "\n",
       "    .dataframe thead th {\n",
       "        text-align: right;\n",
       "    }\n",
       "</style>\n",
       "<table border=\"1\" class=\"dataframe\">\n",
       "  <thead>\n",
       "    <tr style=\"text-align: right;\">\n",
       "      <th></th>\n",
       "      <th>data</th>\n",
       "    </tr>\n",
       "  </thead>\n",
       "  <tbody>\n",
       "    <tr>\n",
       "      <th>count</th>\n",
       "      <td>6.000000</td>\n",
       "    </tr>\n",
       "    <tr>\n",
       "      <th>mean</th>\n",
       "      <td>2.500000</td>\n",
       "    </tr>\n",
       "    <tr>\n",
       "      <th>std</th>\n",
       "      <td>1.870829</td>\n",
       "    </tr>\n",
       "    <tr>\n",
       "      <th>min</th>\n",
       "      <td>0.000000</td>\n",
       "    </tr>\n",
       "    <tr>\n",
       "      <th>25%</th>\n",
       "      <td>1.250000</td>\n",
       "    </tr>\n",
       "    <tr>\n",
       "      <th>50%</th>\n",
       "      <td>2.500000</td>\n",
       "    </tr>\n",
       "    <tr>\n",
       "      <th>75%</th>\n",
       "      <td>3.750000</td>\n",
       "    </tr>\n",
       "    <tr>\n",
       "      <th>max</th>\n",
       "      <td>5.000000</td>\n",
       "    </tr>\n",
       "  </tbody>\n",
       "</table>\n",
       "</div>"
      ],
      "text/plain": [
       "           data\n",
       "count  6.000000\n",
       "mean   2.500000\n",
       "std    1.870829\n",
       "min    0.000000\n",
       "25%    1.250000\n",
       "50%    2.500000\n",
       "75%    3.750000\n",
       "max    5.000000"
      ]
     },
     "execution_count": 48,
     "metadata": {},
     "output_type": "execute_result"
    }
   ],
   "source": [
    "df.describe()"
   ]
  }
 ],
 "metadata": {
  "kernelspec": {
   "display_name": "base",
   "language": "python",
   "name": "python3"
  },
  "language_info": {
   "codemirror_mode": {
    "name": "ipython",
    "version": 3
   },
   "file_extension": ".py",
   "mimetype": "text/x-python",
   "name": "python",
   "nbconvert_exporter": "python",
   "pygments_lexer": "ipython3",
   "version": "3.10.9"
  }
 },
 "nbformat": 4,
 "nbformat_minor": 5
}
