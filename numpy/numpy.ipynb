{
 "cells": [
  {
   "cell_type": "code",
   "execution_count": 18,
   "metadata": {},
   "outputs": [],
   "source": [
    "import numpy as np    "
   ]
  },
  {
   "cell_type": "code",
   "execution_count": 29,
   "metadata": {},
   "outputs": [
    {
     "data": {
      "text/plain": [
       "array([0.5488135 , 0.71518937, 0.60276338, 0.54488318, 0.4236548 ,\n",
       "       0.64589411, 0.43758721, 0.891773  , 0.96366276])"
      ]
     },
     "execution_count": 29,
     "metadata": {},
     "output_type": "execute_result"
    }
   ],
   "source": [
    "np.random.seed(0) # we use seed(0) to make the random numbers reproducible for testing\n",
    "x = np.random.random(9)\n",
    "x"
   ]
  },
  {
   "cell_type": "code",
   "execution_count": null,
   "metadata": {},
   "outputs": [
    {
     "name": "stdout",
     "output_type": "stream",
     "text": [
      "max value:  0.9636627605010293\n",
      "min value:  0.4236547993389047\n",
      "sum of elements:  5.7742213143196475\n"
     ]
    }
   ],
   "source": [
    "# max value using numpy\n",
    "mx = np.max(x)\n",
    "#same for min value\n",
    "mn = np.min(x)\n",
    "# same we use sum for sum of elements\n",
    "sm = np.sum(x)\n",
    "print(\"max value: \", mx)\n",
    "print(\"min value: \", mn)\n",
    "print(\"sum of elements: \", sm)"
   ]
  },
  {
   "cell_type": "code",
   "execution_count": 41,
   "metadata": {},
   "outputs": [
    {
     "name": "stdout",
     "output_type": "stream",
     "text": [
      "The original array: \n",
      " [[0.13818295 0.19658236 0.36872517]\n",
      " [0.82099323 0.09710128 0.83794491]\n",
      " [0.09609841 0.97645947 0.4686512 ]]\n",
      "The highest value in each column:  [0.82099323 0.97645947 0.83794491]\n",
      "The highest value in each row:  [0.36872517 0.83794491 0.97645947]\n"
     ]
    }
   ],
   "source": [
    "#same way we use 2 dimension array\n",
    "y = np.random.random((3, 3)) \n",
    "print(\"The original array: \\n\", y)\n",
    "print(\"The highest value in each column: \", np.max(y, axis=0))\n",
    "print(\"The highest value in each row: \", np.max(y, axis=1))"
   ]
  }
 ],
 "metadata": {
  "kernelspec": {
   "display_name": "base",
   "language": "python",
   "name": "python3"
  },
  "language_info": {
   "codemirror_mode": {
    "name": "ipython",
    "version": 3
   },
   "file_extension": ".py",
   "mimetype": "text/x-python",
   "name": "python",
   "nbconvert_exporter": "python",
   "pygments_lexer": "ipython3",
   "version": "3.10.9"
  }
 },
 "nbformat": 4,
 "nbformat_minor": 2
}
